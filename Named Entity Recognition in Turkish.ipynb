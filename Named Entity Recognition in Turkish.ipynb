{
 "cells": [
  {
   "cell_type": "code",
   "execution_count": 1,
   "metadata": {},
   "outputs": [],
   "source": [
    "import pandas as pd\n",
    "import numpy as np\n",
    "from math import log\n",
    "import operator as oper\n",
    "import os"
   ]
  },
  {
   "cell_type": "code",
   "execution_count": 2,
   "metadata": {},
   "outputs": [],
   "source": [
    "dataset = pd.read_csv('./tennis.csv', encoding='UTF-8')"
   ]
  },
  {
   "cell_type": "code",
   "execution_count": 3,
   "metadata": {},
   "outputs": [
    {
     "data": {
      "text/html": [
       "<div>\n",
       "<style scoped>\n",
       "    .dataframe tbody tr th:only-of-type {\n",
       "        vertical-align: middle;\n",
       "    }\n",
       "\n",
       "    .dataframe tbody tr th {\n",
       "        vertical-align: top;\n",
       "    }\n",
       "\n",
       "    .dataframe thead th {\n",
       "        text-align: right;\n",
       "    }\n",
       "</style>\n",
       "<table border=\"1\" class=\"dataframe\">\n",
       "  <thead>\n",
       "    <tr style=\"text-align: right;\">\n",
       "      <th></th>\n",
       "      <th>Outlook</th>\n",
       "      <th>Temperature</th>\n",
       "      <th>Humidity</th>\n",
       "      <th>Windy</th>\n",
       "      <th>PlayTennis</th>\n",
       "    </tr>\n",
       "  </thead>\n",
       "  <tbody>\n",
       "    <tr>\n",
       "      <th>9</th>\n",
       "      <td>Rainy</td>\n",
       "      <td>Mild</td>\n",
       "      <td>High</td>\n",
       "      <td>False</td>\n",
       "      <td>No</td>\n",
       "    </tr>\n",
       "    <tr>\n",
       "      <th>10</th>\n",
       "      <td>Sunny</td>\n",
       "      <td>Hot</td>\n",
       "      <td>Normal</td>\n",
       "      <td>True</td>\n",
       "      <td>Yes</td>\n",
       "    </tr>\n",
       "    <tr>\n",
       "      <th>11</th>\n",
       "      <td>Overcast</td>\n",
       "      <td>Mild</td>\n",
       "      <td>High</td>\n",
       "      <td>True</td>\n",
       "      <td>Yes</td>\n",
       "    </tr>\n",
       "    <tr>\n",
       "      <th>12</th>\n",
       "      <td>Overcast</td>\n",
       "      <td>Hot</td>\n",
       "      <td>Normal</td>\n",
       "      <td>False</td>\n",
       "      <td>Yes</td>\n",
       "    </tr>\n",
       "    <tr>\n",
       "      <th>13</th>\n",
       "      <td>Rainy</td>\n",
       "      <td>Mild</td>\n",
       "      <td>High</td>\n",
       "      <td>True</td>\n",
       "      <td>No</td>\n",
       "    </tr>\n",
       "  </tbody>\n",
       "</table>\n",
       "</div>"
      ],
      "text/plain": [
       "     Outlook Temperature Humidity  Windy PlayTennis\n",
       "9      Rainy        Mild     High  False         No\n",
       "10     Sunny         Hot   Normal   True        Yes\n",
       "11  Overcast        Mild     High   True        Yes\n",
       "12  Overcast         Hot   Normal  False        Yes\n",
       "13     Rainy        Mild     High   True         No"
      ]
     },
     "execution_count": 3,
     "metadata": {},
     "output_type": "execute_result"
    }
   ],
   "source": [
    "dataset.tail()"
   ]
  },
  {
   "cell_type": "code",
   "execution_count": 4,
   "metadata": {},
   "outputs": [],
   "source": [
    "dataset_1 = pd.DataFrame(np.array([dataset['Temperature'], \\\n",
    "                    dataset['Humidity'], \\\n",
    "                    dataset['Windy'], \\\n",
    "                    dataset['PlayTennis'], \\\n",
    "                    dataset['Outlook']]).T)"
   ]
  },
  {
   "cell_type": "code",
   "execution_count": 5,
   "metadata": {},
   "outputs": [],
   "source": [
    "dataset_2 = pd.DataFrame(np.array([dataset['Humidity'], \\\n",
    "                    dataset['Windy'], \\\n",
    "                    dataset['PlayTennis'], \\\n",
    "                    dataset['Outlook'], \\\n",
    "                    dataset['Temperature']]).T)"
   ]
  },
  {
   "cell_type": "code",
   "execution_count": 6,
   "metadata": {},
   "outputs": [],
   "source": [
    "dataset_3 = pd.DataFrame(np.array([dataset['Windy'], \\\n",
    "                    dataset['PlayTennis'], \\\n",
    "                    dataset['Outlook'], \\\n",
    "                    dataset['Temperature'], \\\n",
    "                    dataset['Humidity']]).T)"
   ]
  },
  {
   "cell_type": "code",
   "execution_count": 7,
   "metadata": {},
   "outputs": [],
   "source": [
    "dataset_4 = pd.DataFrame(np.array([dataset['PlayTennis'], \\\n",
    "                    dataset['Outlook'], \\\n",
    "                    dataset['Temperature'], \\\n",
    "                    dataset['Humidity'], \\\n",
    "                    dataset['Windy']]).T)"
   ]
  },
  {
   "cell_type": "code",
   "execution_count": 8,
   "metadata": {},
   "outputs": [],
   "source": [
    "dataset = np.array(dataset)\n",
    "dataset_1 = np.array(dataset_1)\n",
    "dataset_2 = np.array(dataset_2)\n",
    "dataset_3 = np.array(dataset_3)\n",
    "dataset_4 = np.array(dataset_4)"
   ]
  },
  {
   "cell_type": "code",
   "execution_count": 9,
   "metadata": {},
   "outputs": [
    {
     "data": {
      "text/plain": [
       "array([['No', 'Sunny', 'Hot', 'High', False],\n",
       "       ['No', 'Sunny', 'Cold', 'High', True],\n",
       "       ['Yes', 'Overcast', 'Hot', 'High', False],\n",
       "       ['Yes', 'Rainy', 'Mild', 'Normal', False],\n",
       "       ['Yes', 'Rainy', 'Cool', 'Normal', False],\n",
       "       ['No', 'Rainy', 'Cool', 'Normal', True],\n",
       "       ['Yes', 'Overcast', 'Cool', 'Normal', True],\n",
       "       ['No', 'Sunny', 'Mild', 'High', False],\n",
       "       ['Yes', 'Sunny', 'Cool', 'Normal', False],\n",
       "       ['No', 'Rainy', 'Mild', 'High', False],\n",
       "       ['Yes', 'Sunny', 'Hot', 'Normal', True],\n",
       "       ['Yes', 'Overcast', 'Mild', 'High', True],\n",
       "       ['Yes', 'Overcast', 'Hot', 'Normal', False],\n",
       "       ['No', 'Rainy', 'Mild', 'High', True]], dtype=object)"
      ]
     },
     "execution_count": 9,
     "metadata": {},
     "output_type": "execute_result"
    }
   ],
   "source": [
    "dataset_4"
   ]
  },
  {
   "cell_type": "code",
   "execution_count": 10,
   "metadata": {},
   "outputs": [],
   "source": [
    "def create_label_dict(data):\n",
    "    label_dict = dict()\n",
    "    for feature in data:\n",
    "        label = feature[-1]\n",
    "        if label not in label_dict.keys():\n",
    "            label_dict[label] = 0\n",
    "        label_dict[label] += 1\n",
    "    return label_dict"
   ]
  },
  {
   "cell_type": "code",
   "execution_count": 11,
   "metadata": {},
   "outputs": [],
   "source": [
    "def entropy(data):\n",
    "    label_dict = create_label_dict(data)\n",
    "    \n",
    "    entropy = 0\n",
    "    for key in label_dict:\n",
    "        prob = float(label_dict[key]/len(data))\n",
    "        entropy -= prob*log(prob, 2)\n",
    "    \n",
    "    return entropy"
   ]
  },
  {
   "cell_type": "code",
   "execution_count": 12,
   "metadata": {},
   "outputs": [],
   "source": [
    "def split_data(data, axis, value):\n",
    "    new_data = list()\n",
    "    for feature in data:\n",
    "        if feature[axis] == value:\n",
    "            new_feature = list(feature[:axis])\n",
    "            new_feature.extend(feature[axis+1:])\n",
    "            new_data.append(new_feature)\n",
    "    return new_data"
   ]
  },
  {
   "cell_type": "code",
   "execution_count": 13,
   "metadata": {},
   "outputs": [],
   "source": [
    "def choose_best_feature(data):\n",
    "    initial_entropy = entropy(data)\n",
    "    best_info_gain = 0.0\n",
    "    best_feature = -1\n",
    "    \n",
    "    for i in range(len(data[0])-1):\n",
    "        feature_list = [rows[i] for rows in data]\n",
    "        unique_values = set(feature_list)\n",
    "        new_entropy = 0.0\n",
    "        \n",
    "        for value in unique_values:\n",
    "            new_data = split_data(data, i, value)\n",
    "            prob = len(new_data)/float(len(data))\n",
    "            new_entropy += prob*entropy(new_data)\n",
    "        \n",
    "        info_gain = initial_entropy - new_entropy\n",
    "        if info_gain > best_info_gain:\n",
    "            best_info_gain = info_gain\n",
    "            best_feature = i\n",
    "    \n",
    "    return best_feature"
   ]
  },
  {
   "cell_type": "code",
   "execution_count": 14,
   "metadata": {},
   "outputs": [],
   "source": [
    "def sort_dict(class_dict):\n",
    "    return sorted(class_dict.iteritems, key=oper.itemgetter(1), reverse=True)[0][0]"
   ]
  },
  {
   "cell_type": "code",
   "execution_count": 15,
   "metadata": {},
   "outputs": [],
   "source": [
    "def get_most(class_list):\n",
    "    class_dict = dict()\n",
    "    for vote in class_list:\n",
    "        if vote not in class_dict.keys():\n",
    "            class_dict[vote] = 0\n",
    "        class_dict[vote] += 1\n",
    "    \n",
    "    return sort_dict(class_list)"
   ]
  },
  {
   "cell_type": "code",
   "execution_count": 16,
   "metadata": {},
   "outputs": [],
   "source": [
    "def create_tree(data, labels):\n",
    "    class_list = [rows[-1] for rows in data]\n",
    "    if class_list.count(class_list[0]) == len(class_list):\n",
    "        return class_list[0]\n",
    "    if len(data[0]) == 1:\n",
    "        return get_most(class_list)\n",
    "\n",
    "    best_feature = choose_best_feature(data)\n",
    "    best_feature_label = labels[best_feature]\n",
    "    tree = {best_feature_label: dict()}\n",
    "    \n",
    "    labels = np.delete(labels, best_feature)\n",
    "     \n",
    "    feature_values = [rows[best_feature] for rows in data]\n",
    "    unique_values = set(feature_values)\n",
    "    for value in unique_values:\n",
    "        new_labels = labels[:]\n",
    "        tree[best_feature_label][value] = create_tree(split_data(data, best_feature, value), new_labels)\n",
    "    \n",
    "    return tree"
   ]
  },
  {
   "cell_type": "code",
   "execution_count": 17,
   "metadata": {},
   "outputs": [],
   "source": [
    "def pretty_print_tree(tree):\n",
    "    stack = []\n",
    "    rules = set()\n",
    "    \n",
    "    def rule(tree, key, stack, rules):\n",
    "        if isinstance(tree[key], dict):\n",
    "            new_str = 'IF ' if not stack else ' and '\n",
    "            stack.append(new_str + str(key) + ' is ')\n",
    "            for k in tree[key].keys():\n",
    "                stack.append(str(k))\n",
    "                rule(tree[key], k, stack, rules)\n",
    "                stack.pop()\n",
    "            stack.pop()\n",
    "        else:\n",
    "            stack.append(' THEN ' + str(tree[key]))\n",
    "            rules.add(''.join(stack))\n",
    "            stack.pop()\n",
    "            \n",
    "    rule(tree, list(tree.keys())[0], stack, rules)\n",
    "    print(os.linesep.join(rules))"
   ]
  },
  {
   "cell_type": "code",
   "execution_count": 18,
   "metadata": {},
   "outputs": [],
   "source": [
    "tree = create_tree(dataset, ['Outlook', 'Temperature', 'Humidity', 'Windy', 'PlayTennis'])\n",
    "tree_1 = create_tree(dataset_1, ['Temperature', 'Humidity', 'Windy', 'PlayTennis', 'Outlook'])\n",
    "tree_2 = create_tree(dataset_2, ['Humidity', 'Windy', 'PlayTennis', 'Outlook', 'Temperature'])\n",
    "tree_3 = create_tree(dataset_3, ['Windy', 'PlayTennis', 'Outlook', 'Temperature', 'Humidity'])\n",
    "tree_4 = create_tree(dataset_4, ['PlayTennis', 'Outlook', 'Temperature', 'Humidity', 'Windy'])"
   ]
  },
  {
   "cell_type": "code",
   "execution_count": 19,
   "metadata": {},
   "outputs": [
    {
     "data": {
      "text/plain": [
       "{'Outlook': {'Overcast': 'Yes',\n",
       "  'Rainy': {'Humidity': {'High': 'No',\n",
       "    'Normal': {'Windy': {False: 'Yes', True: 'No'}}}},\n",
       "  'Sunny': {'Humidity': {'High': 'No', 'Normal': 'Yes'}}}}"
      ]
     },
     "execution_count": 19,
     "metadata": {},
     "output_type": "execute_result"
    }
   ],
   "source": [
    "tree"
   ]
  },
  {
   "cell_type": "code",
   "execution_count": 20,
   "metadata": {},
   "outputs": [
    {
     "name": "stdout",
     "output_type": "stream",
     "text": [
      "IF Outlook is Sunny and Sunny is Humidity and Humidity is High THEN No\n",
      "IF Outlook is Overcast THEN Yes\n",
      "IF Outlook is Rainy and Rainy is Humidity and Humidity is Normal and Normal is Windy and Windy is False THEN Yes\n",
      "IF Outlook is Sunny and Sunny is Humidity and Humidity is Normal THEN Yes\n",
      "IF Outlook is Rainy and Rainy is Humidity and Humidity is Normal and Normal is Windy and Windy is True THEN No\n",
      "IF Outlook is Rainy and Rainy is Humidity and Humidity is High THEN No\n"
     ]
    }
   ],
   "source": [
    "pretty_print_tree(tree)"
   ]
  },
  {
   "cell_type": "code",
   "execution_count": 21,
   "metadata": {},
   "outputs": [
    {
     "data": {
      "text/plain": [
       "{'Temperature': {'Cold': 'Sunny',\n",
       "  'Cool': {'Windy': {False: {'Outlook': {'Rainy': 'Rainy', 'Sunny': 'Sunny'}},\n",
       "    True: {'PlayTennis': {'No': 'Rainy', 'Yes': 'Overcast'}}}},\n",
       "  'Hot': {'Windy': {False: {'PlayTennis': {'No': 'Sunny', 'Yes': 'Overcast'}},\n",
       "    True: 'Sunny'}},\n",
       "  'Mild': {'Windy': {False: {'Humidity': {'High': {'Outlook': {'Rainy': 'Rainy',\n",
       "        'Sunny': 'Sunny'}},\n",
       "      'Normal': 'Rainy'}},\n",
       "    True: {'PlayTennis': {'No': 'Rainy', 'Yes': 'Overcast'}}}}}}"
      ]
     },
     "execution_count": 21,
     "metadata": {},
     "output_type": "execute_result"
    }
   ],
   "source": [
    "tree_1"
   ]
  },
  {
   "cell_type": "code",
   "execution_count": 22,
   "metadata": {},
   "outputs": [
    {
     "name": "stdout",
     "output_type": "stream",
     "text": [
      "IF Temperature is Mild and Mild is Windy and Windy is False and False is Humidity and Humidity is High and High is Outlook and Outlook is Sunny THEN Sunny\n",
      "IF Temperature is Hot and Hot is Windy and Windy is False and False is PlayTennis and PlayTennis is No THEN Sunny\n",
      "IF Temperature is Mild and Mild is Windy and Windy is False and False is Humidity and Humidity is High and High is Outlook and Outlook is Rainy THEN Rainy\n",
      "IF Temperature is Cool and Cool is Windy and Windy is True and True is PlayTennis and PlayTennis is Yes THEN Overcast\n",
      "IF Temperature is Hot and Hot is Windy and Windy is True THEN Sunny\n",
      "IF Temperature is Cool and Cool is Windy and Windy is True and True is PlayTennis and PlayTennis is No THEN Rainy\n",
      "IF Temperature is Cold THEN Sunny\n",
      "IF Temperature is Mild and Mild is Windy and Windy is False and False is Humidity and Humidity is Normal THEN Rainy\n",
      "IF Temperature is Hot and Hot is Windy and Windy is False and False is PlayTennis and PlayTennis is Yes THEN Overcast\n",
      "IF Temperature is Cool and Cool is Windy and Windy is False and False is Outlook and Outlook is Sunny THEN Sunny\n",
      "IF Temperature is Mild and Mild is Windy and Windy is True and True is PlayTennis and PlayTennis is Yes THEN Overcast\n",
      "IF Temperature is Cool and Cool is Windy and Windy is False and False is Outlook and Outlook is Rainy THEN Rainy\n",
      "IF Temperature is Mild and Mild is Windy and Windy is True and True is PlayTennis and PlayTennis is No THEN Rainy\n"
     ]
    }
   ],
   "source": [
    "pretty_print_tree(tree_1)"
   ]
  },
  {
   "cell_type": "code",
   "execution_count": 23,
   "metadata": {},
   "outputs": [
    {
     "data": {
      "text/plain": [
       "{'Humidity': {'High': {'Windy': {False: {'Outlook': {'Overcast': 'Hot',\n",
       "      'Rainy': 'Mild',\n",
       "      'Sunny': {'Temperature': {'Hot': 'Hot', 'Mild': 'Mild'}}}},\n",
       "    True: {'Outlook': {'Overcast': 'Mild',\n",
       "      'Rainy': 'Mild',\n",
       "      'Sunny': 'Cold'}}}},\n",
       "  'Normal': {'Outlook': {'Overcast': {'Windy': {False: 'Hot', True: 'Cool'}},\n",
       "    'Rainy': {'Windy': {False: {'Temperature': {'Cool': 'Cool',\n",
       "        'Mild': 'Mild'}},\n",
       "      True: 'Cool'}},\n",
       "    'Sunny': {'Windy': {False: 'Cool', True: 'Hot'}}}}}}"
      ]
     },
     "execution_count": 23,
     "metadata": {},
     "output_type": "execute_result"
    }
   ],
   "source": [
    "tree_2"
   ]
  },
  {
   "cell_type": "code",
   "execution_count": 24,
   "metadata": {},
   "outputs": [
    {
     "name": "stdout",
     "output_type": "stream",
     "text": [
      "IF Humidity is High and High is Windy and Windy is False and False is Outlook and Outlook is Rainy THEN Mild\n",
      "IF Humidity is High and High is Windy and Windy is False and False is Outlook and Outlook is Sunny and Sunny is Temperature and Temperature is Hot THEN Hot\n",
      "IF Humidity is Normal and Normal is Outlook and Outlook is Sunny and Sunny is Windy and Windy is False THEN Cool\n",
      "IF Humidity is High and High is Windy and Windy is False and False is Outlook and Outlook is Overcast THEN Hot\n",
      "IF Humidity is Normal and Normal is Outlook and Outlook is Rainy and Rainy is Windy and Windy is False and False is Temperature and Temperature is Mild THEN Mild\n",
      "IF Humidity is Normal and Normal is Outlook and Outlook is Overcast and Overcast is Windy and Windy is True THEN Cool\n",
      "IF Humidity is Normal and Normal is Outlook and Outlook is Rainy and Rainy is Windy and Windy is False and False is Temperature and Temperature is Cool THEN Cool\n",
      "IF Humidity is Normal and Normal is Outlook and Outlook is Rainy and Rainy is Windy and Windy is True THEN Cool\n",
      "IF Humidity is High and High is Windy and Windy is False and False is Outlook and Outlook is Sunny and Sunny is Temperature and Temperature is Mild THEN Mild\n",
      "IF Humidity is High and High is Windy and Windy is True and True is Outlook and Outlook is Sunny THEN Cold\n",
      "IF Humidity is Normal and Normal is Outlook and Outlook is Overcast and Overcast is Windy and Windy is False THEN Hot\n",
      "IF Humidity is Normal and Normal is Outlook and Outlook is Sunny and Sunny is Windy and Windy is True THEN Hot\n",
      "IF Humidity is High and High is Windy and Windy is True and True is Outlook and Outlook is Overcast THEN Mild\n",
      "IF Humidity is High and High is Windy and Windy is True and True is Outlook and Outlook is Rainy THEN Mild\n"
     ]
    }
   ],
   "source": [
    "pretty_print_tree(tree_2)"
   ]
  },
  {
   "cell_type": "code",
   "execution_count": 25,
   "metadata": {},
   "outputs": [
    {
     "data": {
      "text/plain": [
       "{'Temperature': {'Cold': 'High',\n",
       "  'Cool': 'Normal',\n",
       "  'Hot': {'Windy': {False: {'PlayTennis': {'No': 'High',\n",
       "      'Yes': {'Humidity': {'High': 'High', 'Normal': 'Normal'}}}},\n",
       "    True: 'Normal'}},\n",
       "  'Mild': {'PlayTennis': {'No': 'High',\n",
       "    'Yes': {'Windy': {False: 'Normal', True: 'High'}}}}}}"
      ]
     },
     "execution_count": 25,
     "metadata": {},
     "output_type": "execute_result"
    }
   ],
   "source": [
    "tree_3"
   ]
  },
  {
   "cell_type": "code",
   "execution_count": 26,
   "metadata": {},
   "outputs": [
    {
     "name": "stdout",
     "output_type": "stream",
     "text": [
      "IF Temperature is Cold THEN High\n",
      "IF Temperature is Hot and Hot is Windy and Windy is False and False is PlayTennis and PlayTennis is No THEN High\n",
      "IF Temperature is Mild and Mild is PlayTennis and PlayTennis is Yes and Yes is Windy and Windy is False THEN Normal\n",
      "IF Temperature is Hot and Hot is Windy and Windy is False and False is PlayTennis and PlayTennis is Yes and Yes is Humidity and Humidity is High THEN High\n",
      "IF Temperature is Cool THEN Normal\n",
      "IF Temperature is Mild and Mild is PlayTennis and PlayTennis is No THEN High\n",
      "IF Temperature is Hot and Hot is Windy and Windy is True THEN Normal\n",
      "IF Temperature is Mild and Mild is PlayTennis and PlayTennis is Yes and Yes is Windy and Windy is True THEN High\n",
      "IF Temperature is Hot and Hot is Windy and Windy is False and False is PlayTennis and PlayTennis is Yes and Yes is Humidity and Humidity is Normal THEN Normal\n"
     ]
    }
   ],
   "source": [
    "pretty_print_tree(tree_3)"
   ]
  },
  {
   "cell_type": "code",
   "execution_count": 27,
   "metadata": {},
   "outputs": [
    {
     "data": {
      "text/plain": [
       "{'Temperature': {'Cold': True,\n",
       "  'Cool': {'Outlook': {'Overcast': True,\n",
       "    'Rainy': {'PlayTennis': {'No': True, 'Yes': False}},\n",
       "    'Sunny': False}},\n",
       "  'Hot': {'Outlook': {'Overcast': False,\n",
       "    'Sunny': {'PlayTennis': {'No': False, 'Yes': True}}}},\n",
       "  'Mild': {'Outlook': {'Overcast': True,\n",
       "    'Rainy': {'PlayTennis': {'No': {'Windy': {False: False, True: True}},\n",
       "      'Yes': False}},\n",
       "    'Sunny': False}}}}"
      ]
     },
     "execution_count": 27,
     "metadata": {},
     "output_type": "execute_result"
    }
   ],
   "source": [
    "tree_4"
   ]
  },
  {
   "cell_type": "code",
   "execution_count": 28,
   "metadata": {},
   "outputs": [
    {
     "name": "stdout",
     "output_type": "stream",
     "text": [
      "IF Temperature is Mild and Mild is Outlook and Outlook is Sunny THEN False\n",
      "IF Temperature is Cool and Cool is Outlook and Outlook is Overcast THEN True\n",
      "IF Temperature is Cool and Cool is Outlook and Outlook is Rainy and Rainy is PlayTennis and PlayTennis is No THEN True\n",
      "IF Temperature is Mild and Mild is Outlook and Outlook is Rainy and Rainy is PlayTennis and PlayTennis is No and No is Windy and Windy is False THEN False\n",
      "IF Temperature is Mild and Mild is Outlook and Outlook is Rainy and Rainy is PlayTennis and PlayTennis is No and No is Windy and Windy is True THEN True\n",
      "IF Temperature is Cold THEN True\n",
      "IF Temperature is Mild and Mild is Outlook and Outlook is Rainy and Rainy is PlayTennis and PlayTennis is Yes THEN False\n",
      "IF Temperature is Cool and Cool is Outlook and Outlook is Sunny THEN False\n",
      "IF Temperature is Mild and Mild is Outlook and Outlook is Overcast THEN True\n",
      "IF Temperature is Hot and Hot is Outlook and Outlook is Sunny and Sunny is PlayTennis and PlayTennis is Yes THEN True\n",
      "IF Temperature is Cool and Cool is Outlook and Outlook is Rainy and Rainy is PlayTennis and PlayTennis is Yes THEN False\n",
      "IF Temperature is Hot and Hot is Outlook and Outlook is Sunny and Sunny is PlayTennis and PlayTennis is No THEN False\n",
      "IF Temperature is Hot and Hot is Outlook and Outlook is Overcast THEN False\n"
     ]
    }
   ],
   "source": [
    "pretty_print_tree(tree_4)"
   ]
  },
  {
   "cell_type": "code",
   "execution_count": null,
   "metadata": {},
   "outputs": [],
   "source": []
  }
 ],
 "metadata": {
  "kernelspec": {
   "display_name": "Python 3",
   "language": "python",
   "name": "python3"
  },
  "language_info": {
   "codemirror_mode": {
    "name": "ipython",
    "version": 3
   },
   "file_extension": ".py",
   "mimetype": "text/x-python",
   "name": "python",
   "nbconvert_exporter": "python",
   "pygments_lexer": "ipython3",
   "version": "3.5.4"
  }
 },
 "nbformat": 4,
 "nbformat_minor": 2
}
