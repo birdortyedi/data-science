{
 "cells": [
  {
   "cell_type": "code",
   "execution_count": 1,
   "metadata": {},
   "outputs": [],
   "source": [
    "# Importing the libraries\n",
    "import numpy as np\n",
    "import pandas as pd\n",
    "from sklearn.preprocessing import StandardScaler\n",
    "from sklearn.model_selection import train_test_split, cross_val_score\n",
    "from sklearn.linear_model import LogisticRegression\n",
    "from sklearn.svm import SVR\n",
    "from sklearn.ensemble import RandomForestRegressor\n",
    "from sklearn.metrics import classification_report, precision_recall_curve, average_precision_score\n",
    "from imblearn.over_sampling import SMOTE\n",
    "from imblearn.under_sampling import RandomUnderSampler \n",
    "import matplotlib.pyplot as plt"
   ]
  },
  {
   "cell_type": "code",
   "execution_count": 2,
   "metadata": {},
   "outputs": [],
   "source": [
    "# Reading the dataset\n",
    "dataset = pd.read_csv('./creditcard.csv')"
   ]
  },
  {
   "cell_type": "code",
   "execution_count": 3,
   "metadata": {
    "collapsed": true
   },
   "outputs": [],
   "source": [
    "# Scaling the amount column\n",
    "dataset['Amount'] = StandardScaler().fit_transform(dataset[['Amount']])"
   ]
  },
  {
   "cell_type": "code",
   "execution_count": 4,
   "metadata": {
    "collapsed": true
   },
   "outputs": [],
   "source": [
    "# Preprocessing the dataset\n",
    "dataset['hour'] = dataset['Time'].apply(lambda x: np.ceil(float(x)/3600) % 24)\n",
    "X = pd.concat([dataset.loc[:,'V1':'Amount'],dataset.loc[:,'Time']],axis=1)\n",
    "y = dataset['Class']"
   ]
  },
  {
   "cell_type": "code",
   "execution_count": 5,
   "metadata": {},
   "outputs": [],
   "source": [
    "# Over-sampling with imblearn library\n",
    "smote = SMOTE(random_state=42)\n",
    "os_X, os_y = smote.fit_sample(X, y)\n",
    "oversampled_X = pd.DataFrame(data=os_X)\n",
    "oversampled_y= pd.DataFrame(data=os_y)"
   ]
  },
  {
   "cell_type": "code",
   "execution_count": 6,
   "metadata": {
    "collapsed": true
   },
   "outputs": [],
   "source": [
    "# Under-sampling with imblearn library\n",
    "neigh_cleaning = RandomUnderSampler(random_state=42)\n",
    "us_X, us_y = neigh_cleaning.fit_sample(X, y)\n",
    "undersampled_X = pd.DataFrame(data=us_X)\n",
    "undersampled_y= pd.DataFrame(data=us_y)"
   ]
  },
  {
   "cell_type": "code",
   "execution_count": 7,
   "metadata": {
    "collapsed": true
   },
   "outputs": [],
   "source": [
    "# Creating Logistic Regression models\n",
    "lr_model = LogisticRegression()\n",
    "us_lr_model = LogisticRegression()\n",
    "os_lr_model = LogisticRegression()"
   ]
  },
  {
   "cell_type": "code",
   "execution_count": 8,
   "metadata": {},
   "outputs": [
    {
     "name": "stderr",
     "output_type": "stream",
     "text": [
      "[Parallel(n_jobs=-1)]: Done   6 out of  10 | elapsed:   12.7s remaining:    8.4s\n"
     ]
    },
    {
     "name": "stdout",
     "output_type": "stream",
     "text": [
      "10-Fold Cross Validation Scores for Original Dataset: \n",
      "[ 0.98483253  0.99957868  0.99982444  0.99950844  0.99929778  0.99908708\n",
      "  0.99968399  0.99870084  0.99834972  0.99880618]\n"
     ]
    },
    {
     "name": "stderr",
     "output_type": "stream",
     "text": [
      "[Parallel(n_jobs=-1)]: Done  10 out of  10 | elapsed:   18.2s finished\n"
     ]
    }
   ],
   "source": [
    "# Validating the Logistic Regression model with K-Fold Cross Validation method on the Original Dataset\n",
    "scores_original = cross_val_score(lr_model, X, y, cv=10, n_jobs=-1, verbose=1)\n",
    "print(\"10-Fold Cross Validation Scores for Original Dataset: \\n\"+ str(scores_original))"
   ]
  },
  {
   "cell_type": "code",
   "execution_count": 9,
   "metadata": {},
   "outputs": [
    {
     "name": "stderr",
     "output_type": "stream",
     "text": [
      "[Parallel(n_jobs=-1)]: Done   6 out of  10 | elapsed:    6.1s remaining:    4.0s\n"
     ]
    },
    {
     "name": "stdout",
     "output_type": "stream",
     "text": [
      "10-Fold Cross Validation Scores for Undersampled Dataset: \n",
      "[ 0.97        0.99        0.97959184  0.90816327  0.89795918  0.92857143\n",
      "  0.96938776  0.8877551   0.89795918  0.85714286]\n"
     ]
    },
    {
     "name": "stderr",
     "output_type": "stream",
     "text": [
      "[Parallel(n_jobs=-1)]: Done  10 out of  10 | elapsed:    7.9s finished\n"
     ]
    }
   ],
   "source": [
    "# Validating the Logistic Regression model with K-Fold Cross Validation method on the Undersampled Dataset\n",
    "scores_us = cross_val_score(us_lr_model, undersampled_X, undersampled_y.values.ravel(), cv=10, n_jobs=-1, verbose=1)\n",
    "print(\"10-Fold Cross Validation Scores for Undersampled Dataset: \\n\"+ str(scores_us))"
   ]
  },
  {
   "cell_type": "code",
   "execution_count": 10,
   "metadata": {},
   "outputs": [
    {
     "name": "stderr",
     "output_type": "stream",
     "text": [
      "[Parallel(n_jobs=-1)]: Done   6 out of  10 | elapsed:   23.2s remaining:   15.4s\n"
     ]
    },
    {
     "name": "stdout",
     "output_type": "stream",
     "text": [
      "10-Fold Cross Validation Scores for Oversampled Dataset: \n",
      "[ 0.91949212  0.9559827   0.95941193  0.95935917  0.9587085   0.96217157\n",
      "  0.968362    0.9687489   0.9684851   0.97451725]\n"
     ]
    },
    {
     "name": "stderr",
     "output_type": "stream",
     "text": [
      "[Parallel(n_jobs=-1)]: Done  10 out of  10 | elapsed:   27.5s finished\n"
     ]
    }
   ],
   "source": [
    "# Validating the Logistic Regression model with K-Fold Cross Validation method on the Oversampled Dataset\n",
    "scores_os = cross_val_score(os_lr_model, oversampled_X, oversampled_y.values.ravel(), cv=10, n_jobs=-1, verbose=1)\n",
    "print(\"10-Fold Cross Validation Scores for Oversampled Dataset: \\n\"+ str(scores_os))"
   ]
  },
  {
   "cell_type": "code",
   "execution_count": 11,
   "metadata": {
    "collapsed": true
   },
   "outputs": [],
   "source": [
    "# Splitting the original, under-sampled and over-sampled datasets into training and test sets\n",
    "X_train, X_test, y_train, y_test = train_test_split(X, y, test_size=0.3, random_state=42)\n",
    "os_X_train, os_X_test, os_y_train, os_y_test = train_test_split(oversampled_X, oversampled_y, test_size = 0.3, random_state=42)\n",
    "us_X_train, us_X_test, us_y_train, us_y_test = train_test_split(undersampled_X, undersampled_y, test_size = 0.3, random_state=42)"
   ]
  },
  {
   "cell_type": "code",
   "execution_count": 12,
   "metadata": {
    "collapsed": true,
    "scrolled": true
   },
   "outputs": [],
   "source": [
    "# Fit the model with the Original Dataset\n",
    "lr_model.fit(X_train, y_train)\n",
    "\n",
    "# Predict with model\n",
    "y_pred = lr_model.predict(X_test)"
   ]
  },
  {
   "cell_type": "code",
   "execution_count": 13,
   "metadata": {},
   "outputs": [
    {
     "name": "stdout",
     "output_type": "stream",
     "text": [
      "-------------Classification Report for Original Dataset-------------\n",
      "\n",
      "             precision    recall  f1-score   support\n",
      "\n",
      "          0       1.00      1.00      1.00     85307\n",
      "          1       0.71      0.65      0.68       136\n",
      "\n",
      "avg / total       1.00      1.00      1.00     85443\n",
      "\n"
     ]
    }
   ],
   "source": [
    "print('-------------Classification Report for Original Dataset-------------\\n')\n",
    "print(classification_report(y_test,y_pred))"
   ]
  },
  {
   "cell_type": "code",
   "execution_count": 14,
   "metadata": {},
   "outputs": [
    {
     "data": {
      "image/png": "[encoded data removed]",
      "text/plain": [
       "<matplotlib.figure.Figure at 0x189a700c4a8>"
      ]
     },
     "metadata": {},
     "output_type": "display_data"
    }
   ],
   "source": [
    "# Plotting 2-class precision-recall curve with AP\n",
    "y_score = lr_model.decision_function(X_test)\n",
    "\n",
    "precision, recall, _ = precision_recall_curve(y_test, y_score)\n",
    "\n",
    "average_precision = average_precision_score(y_test, y_score)\n",
    "\n",
    "plt.step(recall, precision, color='g', alpha=0.3, where='post')\n",
    "plt.fill_between(recall, precision, step='post', alpha=0.3, color='g')\n",
    "\n",
    "plt.xlabel('Recall')\n",
    "plt.ylabel('Precision')\n",
    "plt.ylim([0.0, 1.05])\n",
    "plt.xlim([0.0, 1.0])\n",
    "plt.title('2-class Precision-Recall curve: AP={0:0.2f}'.format(average_precision))\n",
    "plt.show()"
   ]
  },
  {
   "cell_type": "code",
   "execution_count": 19,
   "metadata": {
    "scrolled": true
   },
   "outputs": [],
   "source": [
    "# Fit the model with the Undersampled Dataset\n",
    "us_lr_model.fit(us_X_train, us_y_train.values.ravel())\n",
    "\n",
    "# Predict with model\n",
    "us_y_pred = us_lr_model.predict(us_X_test)"
   ]
  },
  {
   "cell_type": "code",
   "execution_count": 20,
   "metadata": {},
   "outputs": [
    {
     "name": "stdout",
     "output_type": "stream",
     "text": [
      "-------------Classification Report for Undersampled Dataset-------------\n",
      "\n",
      "             precision    recall  f1-score   support\n",
      "\n",
      "          0       0.91      0.97      0.94       150\n",
      "          1       0.96      0.90      0.93       146\n",
      "\n",
      "avg / total       0.93      0.93      0.93       296\n",
      "\n"
     ]
    }
   ],
   "source": [
    "print('-------------Classification Report for Undersampled Dataset-------------\\n')\n",
    "print(classification_report(us_y_test,us_y_pred))"
   ]
  },
  {
   "cell_type": "code",
   "execution_count": 21,
   "metadata": {},
   "outputs": [
    {
     "data": {
      "image/png": "[encoded data removed]",
      "text/plain": [
       "<matplotlib.figure.Figure at 0x189a700c780>"
      ]
     },
     "metadata": {},
     "output_type": "display_data"
    }
   ],
   "source": [
    "# Plotting 2-class precision-recall curve with AP\n",
    "us_y_score = us_lr_model.decision_function(us_X_test)\n",
    "\n",
    "us_precision, us_recall, _ = precision_recall_curve(us_y_test, us_y_score)\n",
    "\n",
    "us_average_precision = average_precision_score(us_y_test, us_y_score)\n",
    "\n",
    "plt.step(us_recall, us_precision, color='g', alpha=0.3, where='post')\n",
    "plt.fill_between(us_recall, us_precision, step='post', alpha=0.3, color='g')\n",
    "\n",
    "plt.xlabel('Recall')\n",
    "plt.ylabel('Precision')\n",
    "plt.ylim([0.0, 1.05])\n",
    "plt.xlim([0.0, 1.0])\n",
    "plt.title('2-class Precision-Recall curve: AP={0:0.2f}'.format(us_average_precision))\n",
    "plt.show()"
   ]
  },
  {
   "cell_type": "code",
   "execution_count": 22,
   "metadata": {},
   "outputs": [],
   "source": [
    "# Fit the model with the Oversampled Dataset\n",
    "os_lr_model.fit(os_X_train, os_y_train.values.ravel())\n",
    "\n",
    "# Predict with model\n",
    "os_y_pred = os_lr_model.predict(os_X_test)"
   ]
  },
  {
   "cell_type": "code",
   "execution_count": 23,
   "metadata": {},
   "outputs": [
    {
     "name": "stdout",
     "output_type": "stream",
     "text": [
      "-------------Classification Report for Oversampled Dataset-------------\n",
      "\n",
      "             precision    recall  f1-score   support\n",
      "\n",
      "          0       0.93      0.99      0.96     85149\n",
      "          1       0.99      0.93      0.96     85440\n",
      "\n",
      "avg / total       0.96      0.96      0.96    170589\n",
      "\n"
     ]
    }
   ],
   "source": [
    "print('-------------Classification Report for Oversampled Dataset-------------\\n')\n",
    "print(classification_report(os_y_test,os_y_pred))"
   ]
  },
  {
   "cell_type": "code",
   "execution_count": 24,
   "metadata": {},
   "outputs": [
    {
     "data": {
      "image/png": "[encoded data removed]",
      "text/plain": [
       "<matplotlib.figure.Figure at 0x189b0f304e0>"
      ]
     },
     "metadata": {},
     "output_type": "display_data"
    }
   ],
   "source": [
    "# Plotting 2-class precision-recall curve with AP\n",
    "os_y_score = os_lr_model.decision_function(os_X_test)\n",
    "\n",
    "os_precision, os_recall, _ = precision_recall_curve(os_y_test, os_y_score)\n",
    "\n",
    "os_average_precision = average_precision_score(os_y_test, os_y_score)\n",
    "\n",
    "plt.step(os_recall, os_precision, color='g', alpha=0.3, where='post')\n",
    "plt.fill_between(os_recall, os_precision, step='post', alpha=0.3, color='g')\n",
    "\n",
    "plt.xlabel('Recall')\n",
    "plt.ylabel('Precision')\n",
    "plt.ylim([0.0, 1.05])\n",
    "plt.xlim([0.0, 1.0])\n",
    "plt.title('2-class Precision-Recall curve: AP={0:0.2f}'.format(os_average_precision))\n",
    "plt.show()"
   ]
  },
  {
   "cell_type": "code",
   "execution_count": null,
   "metadata": {
    "collapsed": true
   },
   "outputs": [],
   "source": []
  }
 ],
 "metadata": {
  "kernelspec": {
   "display_name": "Python 3",
   "language": "python",
   "name": "python3"
  },
  "language_info": {
   "codemirror_mode": {
    "name": "ipython",
    "version": 3
   },
   "file_extension": ".py",
   "mimetype": "text/x-python",
   "name": "python",
   "nbconvert_exporter": "python",
   "pygments_lexer": "ipython3",
   "version": "3.6.1"
  }
 },
 "nbformat": 4,
 "nbformat_minor": 2
}
