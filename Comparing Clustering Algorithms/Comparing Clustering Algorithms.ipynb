{
 "cells": [
  {
   "cell_type": "code",
   "execution_count": 25,
   "metadata": {},
   "outputs": [],
   "source": [
    "# Importing libraries\n",
    "%matplotlib inline\n",
    "import matplotlib.pyplot as plt\n",
    "import seaborn as sns; sns.set()  # for plot styling\n",
    "import numpy as np\n",
    "from sklearn.cluster import KMeans, MiniBatchKMeans, AgglomerativeClustering, Birch, MeanShift, estimate_bandwidth \n",
    "from sklearn.datasets import load_boston, load_digits, load_iris\n",
    "from sklearn.metrics.cluster import normalized_mutual_info_score"
   ]
  },
  {
   "cell_type": "code",
   "execution_count": 4,
   "metadata": {
    "scrolled": true
   },
   "outputs": [
    {
     "name": "stdout",
     "output_type": "stream",
     "text": [
      "Shape of Boston dataset: (506, 13)\n",
      "Shape of Digits dataset: (1797, 64)\n",
      "Shape of Iris dataset: (150, 4)\n"
     ]
    }
   ],
   "source": [
    "# Loading the data from sklearn datasets\n",
    "\n",
    "# Boston dataset\n",
    "boston_dataset = load_boston()\n",
    "print('Shape of Boston dataset: ' + str(boston_dataset.data.shape))\n",
    "\n",
    "# Digits dataset\n",
    "digits_dataset = load_digits()\n",
    "print('Shape of Digits dataset: ' + str(digits_dataset.data.shape))\n",
    "\n",
    "# Iris dataset\n",
    "iris_dataset = load_iris()\n",
    "print('Shape of Iris dataset: ' + str(iris_dataset.data.shape))"
   ]
  },
  {
   "cell_type": "code",
   "execution_count": 72,
   "metadata": {},
   "outputs": [
    {
     "name": "stdout",
     "output_type": "stream",
     "text": [
      "Accuracy for Boston dataset with KMeans:\n"
     ]
    },
    {
     "data": {
      "text/plain": [
       "0.55959778366226098"
      ]
     },
     "execution_count": 72,
     "metadata": {},
     "output_type": "execute_result"
    }
   ],
   "source": [
    "# KMeans for Boston dataset\n",
    "kmeans_boston = KMeans(n_clusters=30, random_state=0, init=\"k-means++\").fit(boston_dataset.data)\n",
    "km_y_pred_boston = kmeans_boston.labels_\n",
    "km_centers_boston = kmeans_boston.cluster_centers_\n",
    "\n",
    "# Accuracy for Boston dataset\n",
    "print('Accuracy for Boston dataset with KMeans:')\n",
    "normalized_mutual_info_score(boston_dataset.target, km_y_pred_boston)"
   ]
  },
  {
   "cell_type": "code",
   "execution_count": 17,
   "metadata": {},
   "outputs": [
    {
     "name": "stdout",
     "output_type": "stream",
     "text": [
      "Accuracy for Boston dataset with Mini Batch KMeans:\n"
     ]
    },
    {
     "data": {
      "text/plain": [
       "0.62450965470326036"
      ]
     },
     "execution_count": 17,
     "metadata": {},
     "output_type": "execute_result"
    }
   ],
   "source": [
    "# Mini Batch KMeans for Boston dataset\n",
    "mb_kmeans_boston = MiniBatchKMeans(n_clusters=30, compute_labels=True, random_state=0).fit(boston_dataset.data)\n",
    "mb_y_pred_boston = mb_kmeans_boston.labels_\n",
    "mb_centers_boston = mb_kmeans_boston.cluster_centers_\n",
    "\n",
    "# Accuracy for Boston dataset\n",
    "print('Accuracy for Boston dataset with Mini Batch KMeans:')\n",
    "normalized_mutual_info_score(boston_dataset.target, mb_y_pred_boston)"
   ]
  },
  {
   "cell_type": "code",
   "execution_count": 88,
   "metadata": {},
   "outputs": [
    {
     "name": "stdout",
     "output_type": "stream",
     "text": [
      "Accuracy for Boston dataset with Agglomerative Clustering\n"
     ]
    },
    {
     "data": {
      "text/plain": [
       "0.54975352364950936"
      ]
     },
     "execution_count": 88,
     "metadata": {},
     "output_type": "execute_result"
    }
   ],
   "source": [
    "# Agglomerative Clustering for Boston dataset\n",
    "agg_boston = AgglomerativeClustering(n_clusters=30, linkage=\"ward\", affinity=\"euclidean\").fit(boston_dataset.data)\n",
    "agg_y_pred_boston = agg_boston.labels_\n",
    "\n",
    "# Accuracy for Boston dataset with Agglomerative Clustering\n",
    "print('Accuracy for Boston dataset with Agglomerative Clustering')\n",
    "normalized_mutual_info_score(boston_dataset.target, agg_y_pred_boston)"
   ]
  },
  {
   "cell_type": "code",
   "execution_count": 97,
   "metadata": {},
   "outputs": [
    {
     "name": "stdout",
     "output_type": "stream",
     "text": [
      "Accuracy for Boston dataset with Birch Clustering\n"
     ]
    },
    {
     "data": {
      "text/plain": [
       "0.91510354070503575"
      ]
     },
     "execution_count": 97,
     "metadata": {},
     "output_type": "execute_result"
    }
   ],
   "source": [
    "# Birch clustering for Boston dataset\n",
    "birch_boston = Birch(threshold=0.5, branching_factor=50, n_clusters=None, compute_labels=True).fit(boston_dataset.data)\n",
    "birch_y_pred_boston = birch_boston.labels_\n",
    "\n",
    "# Accuracy for Boston dataset with Birch Clustering\n",
    "print('Accuracy for Boston dataset with Birch Clustering')\n",
    "normalized_mutual_info_score(boston_dataset.target, birch_y_pred_boston)"
   ]
  },
  {
   "cell_type": "code",
   "execution_count": 56,
   "metadata": {},
   "outputs": [
    {
     "name": "stdout",
     "output_type": "stream",
     "text": [
      "Accuracy for Boston dataset with Mean Shift Clustering\n"
     ]
    },
    {
     "name": "stderr",
     "output_type": "stream",
     "text": [
      "C:\\Users\\fk2969\\AppData\\Local\\Continuum\\Anaconda3\\lib\\site-packages\\sklearn\\cluster\\mean_shift_.py:276: UserWarning: Binning data failed with provided bin_size=1.687924, using data points as seeds.\n",
      "  \" using data points as seeds.\" % bin_size)\n"
     ]
    },
    {
     "data": {
      "text/plain": [
       "0.91342589530607665"
      ]
     },
     "execution_count": 56,
     "metadata": {},
     "output_type": "execute_result"
    }
   ],
   "source": [
    "# Mean Shift for Boston dataset\n",
    "bandwidth = estimate_bandwidth(iris_dataset.data, quantile=0.35, n_samples=100)\n",
    "ms_boston = MeanShift(bandwidth=bandwidth, bin_seeding=True).fit(boston_dataset.data)\n",
    "ms_y_pred_boston = ms_boston.labels_\n",
    "\n",
    "# Accuracy for Boston dataset with Mean Shift Clustering\n",
    "print('Accuracy for Boston dataset with Mean Shift Clustering')\n",
    "normalized_mutual_info_score(boston_dataset.target, ms_y_pred_boston)"
   ]
  },
  {
   "cell_type": "code",
   "execution_count": 71,
   "metadata": {},
   "outputs": [
    {
     "name": "stdout",
     "output_type": "stream",
     "text": [
      "Accuracy for Digits dataset with KMeans:\n"
     ]
    },
    {
     "data": {
      "text/plain": [
       "0.74689035546457949"
      ]
     },
     "execution_count": 71,
     "metadata": {},
     "output_type": "execute_result"
    }
   ],
   "source": [
    "# KMeans for Digits dataset\n",
    "kmeans_digits = KMeans(n_clusters=10, random_state=0, init=\"k-means++\").fit(digits_dataset.data)\n",
    "y_pred_digits = kmeans_digits.labels_\n",
    "centers_digits = kmeans_digits.cluster_centers_\n",
    "\n",
    "# Accuracy for Digits dataset with KMeans\n",
    "print('Accuracy for Digits dataset with KMeans:')\n",
    "normalized_mutual_info_score(digits_dataset.target, y_pred_digits)"
   ]
  },
  {
   "cell_type": "code",
   "execution_count": 6,
   "metadata": {},
   "outputs": [
    {
     "name": "stdout",
     "output_type": "stream",
     "text": [
      "Accuracy for Digits dataset with Mini Batch KMeans:\n"
     ]
    },
    {
     "data": {
      "text/plain": [
       "0.70971262593334838"
      ]
     },
     "execution_count": 6,
     "metadata": {},
     "output_type": "execute_result"
    }
   ],
   "source": [
    "# Mini Batch KMeans for Digits dataset\n",
    "mb_kmeans_digits = MiniBatchKMeans(n_clusters=10, compute_labels=True, random_state=0).fit(digits_dataset.data)\n",
    "mb_y_pred_digits = mb_kmeans_digits.labels_\n",
    "mb_centers_digits = mb_kmeans_digits.cluster_centers_\n",
    "\n",
    "# Accuracy for Digits dataset with Mini Batch KMeans\n",
    "print('Accuracy for Digits dataset with Mini Batch KMeans:')\n",
    "normalized_mutual_info_score(digits_dataset.target, mb_y_pred_digits)"
   ]
  },
  {
   "cell_type": "code",
   "execution_count": 40,
   "metadata": {},
   "outputs": [
    {
     "name": "stdout",
     "output_type": "stream",
     "text": [
      "Accuracy for Boston dataset with Agglomerative Clustering\n"
     ]
    },
    {
     "data": {
      "text/plain": [
       "0.86823716803658135"
      ]
     },
     "execution_count": 40,
     "metadata": {},
     "output_type": "execute_result"
    }
   ],
   "source": [
    "# Agglomerative Clustering for Digits dataset\n",
    "agg_digits = AgglomerativeClustering(n_clusters=10, linkage=\"ward\", affinity=\"euclidean\").fit(digits_dataset.data)\n",
    "agg_y_pred_digits = agg_digits.labels_\n",
    "\n",
    "# Accuracy for Digits dataset with Agglomerative Clustering\n",
    "print('Accuracy for Digits dataset with Agglomerative Clustering')\n",
    "normalized_mutual_info_score(digits_dataset.target, agg_y_pred_digits)"
   ]
  },
  {
   "cell_type": "code",
   "execution_count": 98,
   "metadata": {},
   "outputs": [
    {
     "name": "stdout",
     "output_type": "stream",
     "text": [
      "Accuracy for Digits dataset with Birch Clustering\n"
     ]
    },
    {
     "data": {
      "text/plain": [
       "0.86823716803658135"
      ]
     },
     "execution_count": 98,
     "metadata": {},
     "output_type": "execute_result"
    }
   ],
   "source": [
    "# Birch clustering for Digits dataset\n",
    "birch_digits = Birch(threshold=0.5, branching_factor=50, n_clusters=10, compute_labels=True).fit(digits_dataset.data)\n",
    "birch_y_pred_digits = birch_digits.labels_\n",
    "\n",
    "# Accuracy for Boston dataset with Birch Clustering\n",
    "print('Accuracy for Digits dataset with Birch Clustering')\n",
    "normalized_mutual_info_score(digits_dataset.target, birch_y_pred_digits)"
   ]
  },
  {
   "cell_type": "code",
   "execution_count": 51,
   "metadata": {},
   "outputs": [
    {
     "name": "stderr",
     "output_type": "stream",
     "text": [
      "C:\\Users\\fk2969\\AppData\\Local\\Continuum\\Anaconda3\\lib\\site-packages\\sklearn\\cluster\\mean_shift_.py:276: UserWarning: Binning data failed with provided bin_size=10.000000, using data points as seeds.\n",
      "  \" using data points as seeds.\" % bin_size)\n"
     ]
    },
    {
     "name": "stdout",
     "output_type": "stream",
     "text": [
      "Accuracy for Digits dataset with Mean Shift Clustering\n"
     ]
    },
    {
     "data": {
      "text/plain": [
       "0.55517928748170609"
      ]
     },
     "execution_count": 51,
     "metadata": {},
     "output_type": "execute_result"
    }
   ],
   "source": [
    "# Mean Shift for Digits dataset\n",
    "ms_digits = MeanShift(bandwidth=10.0, bin_seeding=True).fit(digits_dataset.data)\n",
    "ms_y_pred_digits = ms_digits.labels_\n",
    "\n",
    "# Accuracy for Digits dataset with Mean Shift Clustering\n",
    "print('Accuracy for Digits dataset with Mean Shift Clustering')\n",
    "normalized_mutual_info_score(digits_dataset.target, ms_y_pred_digits)"
   ]
  },
  {
   "cell_type": "code",
   "execution_count": 69,
   "metadata": {},
   "outputs": [
    {
     "name": "stdout",
     "output_type": "stream",
     "text": [
      "Accuracy for Iris dataset with KMeans:\n"
     ]
    },
    {
     "data": {
      "text/plain": [
       "0.75820572781941964"
      ]
     },
     "execution_count": 69,
     "metadata": {},
     "output_type": "execute_result"
    }
   ],
   "source": [
    "# KMeans for Iris dataset\n",
    "kmeans_iris = KMeans(n_clusters=3, random_state=0, init=\"k-means++\").fit(iris_dataset.data)\n",
    "y_pred_iris = kmeans_iris.labels_\n",
    "centers_iris = kmeans_iris.cluster_centers_\n",
    "\n",
    "# Accuracy for Iris dataset with KMeans\n",
    "print('Accuracy for Iris dataset with KMeans:')\n",
    "normalized_mutual_info_score(iris_dataset.target, y_pred_iris)"
   ]
  },
  {
   "cell_type": "code",
   "execution_count": 70,
   "metadata": {},
   "outputs": [
    {
     "name": "stdout",
     "output_type": "stream",
     "text": [
      "Accuracy for Iris dataset with Mini Batch KMeans:\n"
     ]
    },
    {
     "data": {
      "text/plain": [
       "0.75820572781941964"
      ]
     },
     "execution_count": 70,
     "metadata": {},
     "output_type": "execute_result"
    }
   ],
   "source": [
    "# Mini Batch KMeans for Iris dataset\n",
    "mb_kmeans_iris = MiniBatchKMeans(n_clusters=3, compute_labels=True, random_state=0).fit(iris_dataset.data)\n",
    "mb_y_pred_iris = mb_kmeans_iris.labels_\n",
    "mb_centers_iris = mb_kmeans_iris.cluster_centers_\n",
    "\n",
    "# Accuracy for Iris dataset with Mini Batch KMeans\n",
    "print('Accuracy for Iris dataset with Mini Batch KMeans:')\n",
    "normalized_mutual_info_score(iris_dataset.target, mb_y_pred_iris)"
   ]
  },
  {
   "cell_type": "code",
   "execution_count": 57,
   "metadata": {},
   "outputs": [
    {
     "name": "stdout",
     "output_type": "stream",
     "text": [
      "Accuracy for Iris dataset with Agglomerative Clustering\n"
     ]
    },
    {
     "data": {
      "text/plain": [
       "0.80575367113055041"
      ]
     },
     "execution_count": 57,
     "metadata": {},
     "output_type": "execute_result"
    }
   ],
   "source": [
    "# Agglomerative Clustering for Iris dataset\n",
    "agg_iris = AgglomerativeClustering(n_clusters=3, linkage=\"average\", affinity=\"l2\").fit(iris_dataset.data)\n",
    "agg_y_pred_iris = agg_iris.labels_\n",
    "\n",
    "# Accuracy for Iris dataset with Agglomerative Clustering\n",
    "print('Accuracy for Iris dataset with Agglomerative Clustering')\n",
    "normalized_mutual_info_score(iris_dataset.target, agg_y_pred_iris)"
   ]
  },
  {
   "cell_type": "code",
   "execution_count": 92,
   "metadata": {},
   "outputs": [
    {
     "name": "stdout",
     "output_type": "stream",
     "text": [
      "Accuracy for Iris dataset with Birch Clustering\n"
     ]
    },
    {
     "data": {
      "text/plain": [
       "0.79806742053659263"
      ]
     },
     "execution_count": 92,
     "metadata": {},
     "output_type": "execute_result"
    }
   ],
   "source": [
    "# Birch clustering for Iris dataset\n",
    "birch_iris = Birch(threshold=0.2, branching_factor=50, n_clusters=3, compute_labels=True).fit(iris_dataset.data)\n",
    "birch_y_pred_iris = birch_iris.labels_\n",
    "\n",
    "# Accuracy for Iris dataset with Birch Clustering\n",
    "print('Accuracy for Iris dataset with Birch Clustering')\n",
    "normalized_mutual_info_score(iris_dataset.target, birch_y_pred_iris)"
   ]
  },
  {
   "cell_type": "code",
   "execution_count": 61,
   "metadata": {},
   "outputs": [
    {
     "name": "stdout",
     "output_type": "stream",
     "text": [
      "Accuracy for Iris dataset with Mean Shift Clustering\n"
     ]
    },
    {
     "data": {
      "text/plain": [
       "0.72492716567676763"
      ]
     },
     "execution_count": 61,
     "metadata": {},
     "output_type": "execute_result"
    }
   ],
   "source": [
    "# Mean Shift for Iris dataset\n",
    "bandwidth = estimate_bandwidth(iris_dataset.data, quantile=0.3, n_samples=200)\n",
    "ms_iris = MeanShift(bandwidth=bandwidth, bin_seeding=True).fit(iris_dataset.data)\n",
    "ms_y_pred_iris = ms_iris.labels_\n",
    "\n",
    "# Accuracy for Iris dataset with Mean Shift Clustering\n",
    "print('Accuracy for Iris dataset with Mean Shift Clustering')\n",
    "normalized_mutual_info_score(iris_dataset.target, ms_y_pred_iris)"
   ]
  },
  {
   "cell_type": "code",
   "execution_count": null,
   "metadata": {
    "collapsed": true
   },
   "outputs": [],
   "source": []
  }
 ],
 "metadata": {
  "kernelspec": {
   "display_name": "Python 3",
   "language": "python",
   "name": "python3"
  },
  "language_info": {
   "codemirror_mode": {
    "name": "ipython",
    "version": 3
   },
   "file_extension": ".py",
   "mimetype": "text/x-python",
   "name": "python",
   "nbconvert_exporter": "python",
   "pygments_lexer": "ipython3",
   "version": "3.6.1"
  }
 },
 "nbformat": 4,
 "nbformat_minor": 2
}
